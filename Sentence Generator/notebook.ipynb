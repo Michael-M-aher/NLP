{
 "cells": [
  {
   "cell_type": "code",
   "execution_count": 1,
   "metadata": {},
   "outputs": [
    {
     "name": "stderr",
     "output_type": "stream",
     "text": [
      "[nltk_data] Downloading package brown to\n",
      "[nltk_data]     C:\\Users\\misho\\AppData\\Roaming\\nltk_data...\n",
      "[nltk_data]   Package brown is already up-to-date!\n"
     ]
    },
    {
     "data": {
      "text/plain": [
       "True"
      ]
     },
     "execution_count": 1,
     "metadata": {},
     "output_type": "execute_result"
    }
   ],
   "source": [
    "import nltk\n",
    "import re\n",
    "import random\n",
    "from nltk.corpus import brown\n",
    "\n",
    "nltk.download('brown')"
   ]
  },
  {
   "cell_type": "code",
   "execution_count": 2,
   "metadata": {},
   "outputs": [],
   "source": [
    "def remove_punctuation(text):\n",
    "    return re.sub(r'[^\\w\\s]', '', text)\n",
    "\n",
    "def remove_double_spaces(text):\n",
    "    return re.sub(r'\\s+', ' ', text)\n",
    "\n",
    "def preprocess(text):\n",
    "    text = remove_punctuation(text)\n",
    "    text = remove_double_spaces(text)\n",
    "    return text\n",
    "\n",
    "def tokenize(text):\n",
    "    return list(set(text.split()))\n",
    "\n",
    "def generate(text, ngrams , max_len , tokens):\n",
    "    num_rands = ngrams-1\n",
    "    sentence = []\n",
    "\n",
    "    model = {}\n",
    "\n",
    "    text_words = text.split(' ')\n",
    "    rnd = random.randint(0 , len(text_words))\n",
    "    for i in range(num_rands):\n",
    "        sentence.append(text_words[rnd + i])\n",
    "\n",
    "    while(len(sentence) < max_len):\n",
    "        best_prob = 0\n",
    "        best_token = \"\"\n",
    "\n",
    "        values = []\n",
    "\n",
    "        sen = ' '.join(sentence[-num_rands:])\n",
    "        for token in tokens:\n",
    "            sen_with_token = sen + ' ' + token + ' '\n",
    "            probability = text.count(sen_with_token) / text.count(sen)\n",
    "            if probability > best_prob:\n",
    "                best_prob = probability\n",
    "                best_token = token\n",
    "            \n",
    "            if probability:\n",
    "                values.append(probability)\n",
    "\n",
    "        model[sen] = values\n",
    "        sentence.append(best_token)\n",
    "        \n",
    "    return ' '.join(sentence)"
   ]
  },
  {
   "cell_type": "code",
   "execution_count": 3,
   "metadata": {},
   "outputs": [],
   "source": [
    "no_gen_sen = int(input(\"Number of sentences to be generated: \"))\n",
    "\n",
    "ngrams = int(input(\"Enter 2 for bigram or 3 for trigram: \"))\n",
    "if ngrams not in [2, 3]:\n",
    "    print(\"invalid input\")\n",
    "    exit()\n",
    "    \n",
    "max_len = int(input(\"Max number of words in sentence generated: \"))"
   ]
  },
  {
   "cell_type": "code",
   "execution_count": 4,
   "metadata": {},
   "outputs": [],
   "source": [
    "num_sentences = 500\n",
    "\n",
    "brown_sentences = brown.sents()\n",
    "brown_text = ' '.join([' '.join(sentence) for sentence in brown_sentences[:num_sentences]])\n",
    "brown_text = preprocess(brown_text)\n",
    "\n",
    "brown_tokens = tokenize(brown_text)"
   ]
  },
  {
   "cell_type": "code",
   "execution_count": 5,
   "metadata": {},
   "outputs": [
    {
     "name": "stdout",
     "output_type": "stream",
     "text": [
      "Sentence 1: on 70 million American workers would be willing to bet that not enough notice was given on the aid of the Republican Party without his leadership Mitchell said the work President Kennedy today proposed a\n",
      "Sentence 2: been reelected for the first year and would only have to receive final legislative approval by twothirds majorities before March 1 to be an Eisenhower Republican and proud to be an Eisenhower Republican and proud\n",
      "Sentence 3: with the exception of one to five years in prison plus a 1000 fine It was defeated in Congress last year as a result of the Republican Party without his leadership Mitchell said the work\n",
      "Sentence 4: ADC case load The report culminating a year and would only have to receive final legislative approval by twothirds majorities before March 1 to be an Eisenhower Republican and proud to be an Eisenhower Republican\n",
      "Sentence 5: South Viet Nam The administration declared itself in favor of the Republican Party without his leadership Mitchell said the work President Kennedy today proposed a mammoth new medical and dental schools or enlarging the capacity\n",
      "Sentence 6: debate as the further complication that the United States had erred a year and would only have to receive final legislative approval by twothirds majorities before March 1 to be an Eisenhower Republican and proud\n",
      "Sentence 7: a gun and promised an orderly election Sheriff Felix Tabb said the work President Kennedy today proposed a mammoth new medical and dental schools or enlarging the capacity of existing ones More for nursing home\n",
      "Sentence 8: local level from the Oslo attempt to get the benefit of his staff were doing on the aid of the Republican Party without his leadership Mitchell said the work President Kennedy today proposed a mammoth\n",
      "Sentence 9: to banks insurance and pipeline companies and other personal property of persons missing for seven years or more The bill is probably unconstitutional since he said and a doctor medical intern or extern be employed\n",
      "Sentence 10: rural and urban areas to determine what adjustments should be given the right track the free enterprise track He steered me off the Socialist Party The lawyer with whom he talked by telephone Shortly after\n",
      "Sentence 11: of the Republican Party without his leadership Mitchell said the work President Kennedy today proposed a mammoth new medical and dental schools or enlarging the capacity of existing ones More for nursing home bills for\n",
      "Sentence 12: not the function of this court said Karns who charged that the United States had erred a year and would only have to receive final legislative approval by twothirds majorities before March 1 to be\n",
      "Sentence 13: is another of the Republican Party without his leadership Mitchell said the work President Kennedy today proposed a mammoth new medical and dental schools or enlarging the capacity of existing ones More for nursing home\n",
      "Sentence 14: Reama told the court Some of my fellow workers were grooming me for the first year and would only have to receive final legislative approval by twothirds majorities before March 1 to be an Eisenhower\n",
      "Sentence 15: to work for Lt Gov Garland Byrds campaign Caldwells resignation had been brought against 677 persons in 133 precincts by Morris J Wexler special prosecutor Issue jury subpoenas Wexler admitted in earlier court hearings that\n",
      "Sentence 16: precincts to obtain the signatures of registered voters Despite the warning there was no word of a fulltime director he said and a doctor medical intern or extern be employed for night and weekend duty\n",
      "Sentence 17: urged that the United States had erred a year and would only have to receive final legislative approval by twothirds majorities before March 1 to be an Eisenhower Republican and proud to be an Eisenhower\n",
      "Sentence 18: risk a limited or an allout war over Laos Some SEATO nations disagreed however There was the further complication that the United States had erred a year and would only have to receive final legislative\n",
      "Sentence 19: a five per cent on each worker and employer on the aid of the Republican Party without his leadership Mitchell said the work President Kennedy today proposed a mammoth new medical and dental schools or\n",
      "Sentence 20: if people were better informed on this question most of its Angola policy prove harsh there has been a working session of the Republican Party without his leadership Mitchell said the work President Kennedy today\n"
     ]
    }
   ],
   "source": [
    "for i in range(1,no_gen_sen+1):\n",
    "    output = generate(brown_text, ngrams, max_len, brown_tokens)  \n",
    "    print(f\"Sentence {i}: {output}\")"
   ]
  }
 ],
 "metadata": {
  "kernelspec": {
   "display_name": "Python 3",
   "language": "python",
   "name": "python3"
  },
  "language_info": {
   "codemirror_mode": {
    "name": "ipython",
    "version": 3
   },
   "file_extension": ".py",
   "mimetype": "text/x-python",
   "name": "python",
   "nbconvert_exporter": "python",
   "pygments_lexer": "ipython3",
   "version": "3.11.9"
  }
 },
 "nbformat": 4,
 "nbformat_minor": 2
}
